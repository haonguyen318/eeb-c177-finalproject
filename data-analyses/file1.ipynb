{
 "cells": [
  {
   "cell_type": "markdown",
   "metadata": {},
   "source": [
    "import numpy as np\n",
    "import pandas as pd\n",
    "\n",
    "from tkinter import Tk\n",
    "from tkinter import filedialog as fd"
   ]
  },
  {
   "cell_type": "markdown",
   "metadata": {},
   "source": [
    "from tkinter import Tk\n",
    "from tkinter import filedialog as fd"
   ]
  },
  {
   "cell_type": "code",
   "execution_count": 3,
   "metadata": {},
   "outputs": [],
   "source": [
    "import matplotlib\n",
    "import matplotlib.pyplot as plt\n",
    "matplotlib.style.use('ggplot')"
   ]
  },
  {
   "cell_type": "code",
   "execution_count": 4,
   "metadata": {},
   "outputs": [],
   "source": [
    "def open_file():\n",
    "    root = Tk().withdraw()\n",
    "    filename = fd.askopenfilename()\n",
    "    return filename\n",
    "\n",
    "def create_dataframe():\n",
    "    filename = open_file()\n",
    "    try:\n",
    "        return pd.read_csv(filename, parse_dates=['dt'])\n",
    "    except:\n",
    "        return pd.read_excel(filename)\n"
   ]
  },
  {
   "cell_type": "code",
   "execution_count": 5,
   "metadata": {},
   "outputs": [],
   "source": [
    "# Annual Global Temperatures\n",
    "def get_avg_global_temperatures(dataframe, start_year, end_year):\n",
    "    \n",
    "    df = dataframe.copy()\n",
    "    \n",
    "    # extract year from feature 'dt'\n",
    "    df['dt'] = df['dt'].apply(lambda x: x.year)\n",
    "\n",
    "    # extract observations of specified year range\n",
    "    data = df[(df['dt']>=start_year) & (df['dt']<=end_year)]\n",
    "\n",
    "    # return numpy array of average global temperatures\n",
    "    return data.groupby(['dt']).mean()['AverageTemperature'].values"
   ]
  },
  {
   "cell_type": "code",
   "execution_count": 6,
   "metadata": {},
   "outputs": [],
   "source": [
    "def plot_avg_global_temperatures(dataframe, start_year, end_year):\n",
    "\n",
    "    # extract corresponding dates and temperatures \n",
    "    dates = np.arange(start_year, end_year + 1)\n",
    "    temps = get_avg_global_temperatures(dataframe, start_year, end_year)\n",
    "\n",
    "    # plot data\n",
    "    plt.figure(figsize=(12, 6))\n",
    "    plt.scatter(dates, temps, c=temps, s=150, alpha=0.6, edgecolors='none', cmap='viridis')\n",
    "    plt.xlim([start_year - 5, end_year + 5])\n",
    "    plt.grid(True)\n",
    "    plt.title(\"Average Global Temperatures [\" + str(start_year) + \", \" + str(end_year) + \"]\")\n",
    "    plt.xlabel(\"Year\")\n",
    "    plt.ylabel(\"Temperature (Celsius)\")\n",
    "    plt.show()"
   ]
  },
  {
   "cell_type": "code",
   "execution_count": 8,
   "metadata": {},
   "outputs": [],
   "source": [
    "# Uncertainty\n",
    "\n",
    "def get_uncertainty(dataframe, start_year, end_year):\n",
    "\n",
    "    df = dataframe.copy()\n",
    "\n",
    "    # extract year from feature 'dt'\n",
    "    df['dt'] = df['dt'].apply(lambda x: x.year)\n",
    "\n",
    "    # extract observations of specified year range\n",
    "    data = df[(df['dt']>=start_year) & (df['dt']<=end_year)]\n",
    "\n",
    "    # return numpy array of average temperature uncertainties\n",
    "    return data.groupby(['dt']).mean()['AverageTemperatureUncertainty'].values\n",
    "\n",
    "def plot_uncertainty(dataframe, start_year, end_year):\n",
    "\n",
    "    # extract corresponding dates, temperatures, and uncertainties \n",
    "    dates = np.arange(start_year, end_year + 1)\n",
    "    temps = get_avg_global_temperatures(dataframe, start_year, end_year)\n",
    "    uncertainty = get_uncertainty(dataframe, start_year, end_year)\n",
    "\n",
    "\n",
    "    # plot data\n",
    "    plt.figure(figsize=(12, 6))\n",
    "    plt.plot(dates, (temps + uncertainty), c='purple', label='Average Uncertainty Field')\n",
    "    plt.plot(dates, (temps - uncertainty), c='purple')\n",
    "    plt.fill_between(dates, (temps + uncertainty), (temps - uncertainty), facecolor='mediumpurple')\n",
    "    plt.plot(dates, temps, linewidth=3, label='Average Temperature')\n",
    "    plt.xlim([start_year - 5, end_year + 5])\n",
    "    plt.grid(True)\n",
    "    plt.legend(loc='best')\n",
    "    plt.title(\"Average Global Temperatures and Uncertainty Field [\" + str(start_year) + \", \" + str(end_year) + \"]\")\n",
    "    plt.xlabel(\"Year\")\n",
    "    plt.ylabel(\"Temperature (Celsius)\")\n",
    "    plt.show()"
   ]
  },
  {
   "cell_type": "code",
   "execution_count": 9,
   "metadata": {},
   "outputs": [],
   "source": [
    "# Seasons\n",
    "\n",
    "def get_season(month):\n",
    "    if month >= 3 and month <= 5:\n",
    "        return 'Spring'\n",
    "    elif month >= 6 and month <= 8:\n",
    "        return 'Summer'\n",
    "    elif month >= 9 and month <= 11:\n",
    "        return 'Autumn'\n",
    "    else:\n",
    "        return 'Winter'\n",
    "\n",
    "\n",
    "def get_avg_seasonal_global_temperatures(dataframe, start_year, end_year):\n",
    "\n",
    "    df = dataframe.copy()\n",
    "\n",
    "    df['Year'] = df['dt'].apply(lambda x: x.year)\n",
    "    df['Month'] = df['dt'].apply(lambda x: x.month)\n",
    "    df['Season'] = df['Month'].apply(get_season)\n",
    "\n",
    "    years = np.arange(start_year, end_year + 1)\n",
    "\n",
    "    spring = []\n",
    "    summer = []\n",
    "    autumn = []\n",
    "    winter = []\n",
    "\n",
    "    for year in years:\n",
    "        data = df[df['Year'] == year]\n",
    "        spring.append(data[data['Season']=='Spring']['AverageTemperature'].mean())\n",
    "        summer.append(data[data['Season']=='Summer']['AverageTemperature'].mean())\n",
    "        autumn.append(data[data['Season']=='Autumn']['AverageTemperature'].mean())\n",
    "        winter.append(data[data['Season']=='Winter']['AverageTemperature'].mean())\n",
    "\n",
    "    return (spring, summer, autumn, winter)\n",
    "\n",
    "\n",
    "def plot_avg_seasonal_global_temperatures(dataframe, start_year, end_year):\n",
    "\n",
    "    # extract corresponding dates and seasonal data\n",
    "    years = np.arange(start_year, end_year + 1)\n",
    "    spring, summer, autumn, winter = get_avg_seasonal_global_temperatures(dataframe, start_year, end_year)\n",
    "\n",
    "    plt.figure(figsize=(12, 6))\n",
    "    plt.plot(years, spring, label='Spring', color='sage')\n",
    "    plt.plot(years, summer, label='Summer', color='lightcoral')\n",
    "    plt.plot(years, autumn, label='Autumn', color='orange')\n",
    "    plt.plot(years, winter, label='Winter', color='lightskyblue')\n",
    "\n",
    "    plt.legend(loc='best')\n",
    "    plt.grid(True)\n",
    "    plt.xlim(start_year - 5, end_year + 5)\n",
    "    plt.title(\"Average Global Temperatures by Season [\" + str(start_year) + \", \" + str(end_year) + \"]\")\n",
    "    plt.xlabel('Years')\n",
    "    plt.ylabel('Temperature (Celsius)')\n",
    "    plt.show()"
   ]
  },
  {
   "cell_type": "code",
   "execution_count": null,
   "metadata": {},
   "outputs": [],
   "source": []
  }
 ],
 "metadata": {
  "kernelspec": {
   "display_name": "Python 3",
   "language": "python",
   "name": "python3"
  },
  "language_info": {
   "codemirror_mode": {
    "name": "ipython",
    "version": 3
   },
   "file_extension": ".py",
   "mimetype": "text/x-python",
   "name": "python",
   "nbconvert_exporter": "python",
   "pygments_lexer": "ipython3",
   "version": "3.7.5"
  }
 },
 "nbformat": 4,
 "nbformat_minor": 2
}
