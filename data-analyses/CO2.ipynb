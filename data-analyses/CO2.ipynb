{
 "cells": [
  {
   "cell_type": "code",
   "execution_count": 22,
   "metadata": {},
   "outputs": [],
   "source": [
    "import file1 as fl \n",
    "import numpy as np\n",
    "import matplotlib.pyplot as plt\n",
    "%matplotlib inline"
   ]
  },
  {
   "cell_type": "code",
   "execution_count": 25,
   "metadata": {
    "scrolled": true
   },
   "outputs": [
    {
     "data": {
      "text/html": [
       "<div>\n",
       "<style scoped>\n",
       "    .dataframe tbody tr th:only-of-type {\n",
       "        vertical-align: middle;\n",
       "    }\n",
       "\n",
       "    .dataframe tbody tr th {\n",
       "        vertical-align: top;\n",
       "    }\n",
       "\n",
       "    .dataframe thead th {\n",
       "        text-align: right;\n",
       "    }\n",
       "</style>\n",
       "<table border=\"1\" class=\"dataframe\">\n",
       "  <thead>\n",
       "    <tr style=\"text-align: right;\">\n",
       "      <th></th>\n",
       "      <th>YYYY</th>\n",
       "      <th>MM</th>\n",
       "      <th>DD</th>\n",
       "      <th>Date</th>\n",
       "      <th>CO2(ppm)</th>\n",
       "      <th>SD(ppm)</th>\n",
       "      <th>Source</th>\n",
       "    </tr>\n",
       "  </thead>\n",
       "  <tbody>\n",
       "    <tr>\n",
       "      <th>0</th>\n",
       "      <td>1976</td>\n",
       "      <td>5</td>\n",
       "      <td>15</td>\n",
       "      <td>1976.3689</td>\n",
       "      <td>328.861</td>\n",
       "      <td>0.165</td>\n",
       "      <td>in situ</td>\n",
       "    </tr>\n",
       "    <tr>\n",
       "      <th>1</th>\n",
       "      <td>1976</td>\n",
       "      <td>6</td>\n",
       "      <td>15</td>\n",
       "      <td>1976.4536</td>\n",
       "      <td>328.988</td>\n",
       "      <td>0.285</td>\n",
       "      <td>in situ</td>\n",
       "    </tr>\n",
       "    <tr>\n",
       "      <th>2</th>\n",
       "      <td>1976</td>\n",
       "      <td>7</td>\n",
       "      <td>15</td>\n",
       "      <td>1976.5355</td>\n",
       "      <td>329.653</td>\n",
       "      <td>0.282</td>\n",
       "      <td>in situ</td>\n",
       "    </tr>\n",
       "    <tr>\n",
       "      <th>3</th>\n",
       "      <td>1976</td>\n",
       "      <td>8</td>\n",
       "      <td>15</td>\n",
       "      <td>1976.6202</td>\n",
       "      <td>330.550</td>\n",
       "      <td>0.201</td>\n",
       "      <td>in situ</td>\n",
       "    </tr>\n",
       "    <tr>\n",
       "      <th>4</th>\n",
       "      <td>1976</td>\n",
       "      <td>9</td>\n",
       "      <td>15</td>\n",
       "      <td>1976.7049</td>\n",
       "      <td>330.872</td>\n",
       "      <td>0.234</td>\n",
       "      <td>in situ</td>\n",
       "    </tr>\n",
       "  </tbody>\n",
       "</table>\n",
       "</div>"
      ],
      "text/plain": [
       "   YYYY  MM  DD       Date  CO2(ppm)  SD(ppm)   Source\n",
       "0  1976   5  15  1976.3689   328.861    0.165  in situ\n",
       "1  1976   6  15  1976.4536   328.988    0.285  in situ\n",
       "2  1976   7  15  1976.5355   329.653    0.282  in situ\n",
       "3  1976   8  15  1976.6202   330.550    0.201  in situ\n",
       "4  1976   9  15  1976.7049   330.872    0.234  in situ"
      ]
     },
     "execution_count": 25,
     "metadata": {},
     "output_type": "execute_result"
    }
   ],
   "source": [
    "co2_df = fl.create_dataframe()\n",
    "co2_df.head()"
   ]
  },
  {
   "cell_type": "code",
   "execution_count": 32,
   "metadata": {
    "scrolled": false
   },
   "outputs": [
    {
     "ename": "AttributeError",
     "evalue": "module 'file1' has no attribute 'plot_avg_carbon_concentration'",
     "output_type": "error",
     "traceback": [
      "\u001b[0;31m---------------------------------------------------------------------------\u001b[0m",
      "\u001b[0;31mAttributeError\u001b[0m                            Traceback (most recent call last)",
      "\u001b[0;32m<ipython-input-32-87e5ff49db59>\u001b[0m in \u001b[0;36m<module>\u001b[0;34m\u001b[0m\n\u001b[0;32m----> 1\u001b[0;31m \u001b[0mfl\u001b[0m\u001b[0;34m.\u001b[0m\u001b[0mplot_avg_carbon_concentration\u001b[0m\u001b[0;34m(\u001b[0m\u001b[0mco2_df\u001b[0m\u001b[0;34m,\u001b[0m \u001b[0;36m1976\u001b[0m\u001b[0;34m,\u001b[0m \u001b[0;36m2016\u001b[0m\u001b[0;34m)\u001b[0m\u001b[0;34m\u001b[0m\u001b[0;34m\u001b[0m\u001b[0m\n\u001b[0m",
      "\u001b[0;31mAttributeError\u001b[0m: module 'file1' has no attribute 'plot_avg_carbon_concentration'"
     ]
    }
   ],
   "source": [
    "fl.plot_avg_carbon_concentration(co2_df, 1976, 2016)"
   ]
  },
  {
   "cell_type": "code",
   "execution_count": 5,
   "metadata": {},
   "outputs": [
    {
     "ename": "NameError",
     "evalue": "name 'co2_df' is not defined",
     "output_type": "error",
     "traceback": [
      "\u001b[0;31m---------------------------------------------------------------------------\u001b[0m",
      "\u001b[0;31mNameError\u001b[0m                                 Traceback (most recent call last)",
      "\u001b[0;32m<ipython-input-5-a5947b25a029>\u001b[0m in \u001b[0;36m<module>\u001b[0;34m\u001b[0m\n\u001b[1;32m      5\u001b[0m \u001b[0;34m\u001b[0m\u001b[0m\n\u001b[1;32m      6\u001b[0m \u001b[0myears\u001b[0m \u001b[0;34m=\u001b[0m \u001b[0mnp\u001b[0m\u001b[0;34m.\u001b[0m\u001b[0marange\u001b[0m\u001b[0;34m(\u001b[0m\u001b[0;36m1976\u001b[0m\u001b[0;34m,\u001b[0m \u001b[0;36m2017\u001b[0m\u001b[0;34m)\u001b[0m\u001b[0;34m\u001b[0m\u001b[0;34m\u001b[0m\u001b[0m\n\u001b[0;32m----> 7\u001b[0;31m \u001b[0mppms\u001b[0m \u001b[0;34m=\u001b[0m \u001b[0mco2_df\u001b[0m\u001b[0;34m.\u001b[0m\u001b[0mgroupby\u001b[0m\u001b[0;34m(\u001b[0m\u001b[0;34m[\u001b[0m\u001b[0;34m'YYYY'\u001b[0m\u001b[0;34m]\u001b[0m\u001b[0;34m)\u001b[0m\u001b[0;34m.\u001b[0m\u001b[0mmean\u001b[0m\u001b[0;34m(\u001b[0m\u001b[0;34m)\u001b[0m\u001b[0;34m[\u001b[0m\u001b[0;34m'CO2(ppm)'\u001b[0m\u001b[0;34m]\u001b[0m\u001b[0;34m\u001b[0m\u001b[0;34m\u001b[0m\u001b[0m\n\u001b[0m\u001b[1;32m      8\u001b[0m \u001b[0mppms\u001b[0m \u001b[0;34m=\u001b[0m \u001b[0mppms\u001b[0m\u001b[0;34m[\u001b[0m\u001b[0mppms\u001b[0m\u001b[0;34m.\u001b[0m\u001b[0mnotnull\u001b[0m\u001b[0;34m(\u001b[0m\u001b[0;34m)\u001b[0m\u001b[0;34m]\u001b[0m\u001b[0;34m.\u001b[0m\u001b[0mvalues\u001b[0m\u001b[0;34m\u001b[0m\u001b[0;34m\u001b[0m\u001b[0m\n\u001b[1;32m      9\u001b[0m \u001b[0;34m\u001b[0m\u001b[0m\n",
      "\u001b[0;31mNameError\u001b[0m: name 'co2_df' is not defined"
     ]
    }
   ],
   "source": [
    "import sklearn.linear_model as lm\n",
    "\n",
    "# create linear regression model\n",
    "lr = lm.LinearRegression()\n",
    "\n",
    "years = np.arange(1976, 2017)\n",
    "ppms = co2_df.groupby(['YYYY']).mean()['CO2(ppm)']\n",
    "ppms = ppms[ppms.notnull()].values\n",
    "\n",
    "# fit model to our training set\n",
    "# numpy newaxis converts an array into a column vector\n",
    "# conventionally, obcservations are rows and features are columns\n",
    "lr.fit(years[:, np.newaxis], ppms)\n",
    "\n",
    "# predict points\n",
    "future_years = np.arange(1976, 2031)\n",
    "ppms_lr = lr.predict(future_years[:, np.newaxis])"
   ]
  },
  {
   "cell_type": "code",
   "execution_count": null,
   "metadata": {},
   "outputs": [],
   "source": []
  }
 ],
 "metadata": {
  "kernelspec": {
   "display_name": "Python 3",
   "language": "python",
   "name": "python3"
  },
  "language_info": {
   "codemirror_mode": {
    "name": "ipython",
    "version": 3
   },
   "file_extension": ".py",
   "mimetype": "text/x-python",
   "name": "python",
   "nbconvert_exporter": "python",
   "pygments_lexer": "ipython3",
   "version": "3.7.5"
  }
 },
 "nbformat": 4,
 "nbformat_minor": 2
}
